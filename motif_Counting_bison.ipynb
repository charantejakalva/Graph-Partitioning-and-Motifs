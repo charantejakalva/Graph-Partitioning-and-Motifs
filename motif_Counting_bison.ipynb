{
  "nbformat": 4,
  "nbformat_minor": 0,
  "metadata": {
    "colab": {
      "name": "motif_Counting_bison.ipynb",
      "provenance": [],
      "collapsed_sections": []
    },
    "kernelspec": {
      "name": "python3",
      "display_name": "Python 3"
    }
  },
  "cells": [
    {
      "cell_type": "code",
      "metadata": {
        "id": "FVsu6XqcM0gk",
        "colab": {
          "base_uri": "https://localhost:8080/"
        },
        "outputId": "19f666f3-391f-478b-8953-f4582fbc41b7"
      },
      "source": [
        "!echo \"deb http://downloads.skewed.de/apt bionic main\" >> /etc/apt/sources.list\n",
        "!apt-key adv --keyserver keys.openpgp.org --recv-key 612DEFB798507F25\n",
        "!apt-get update\n",
        "!apt-get install python3-graph-tool python3-cairo python3-matplotlib"
      ],
      "execution_count": null,
      "outputs": [
        {
          "output_type": "stream",
          "text": [
            "Executing: /tmp/apt-key-gpghome.4yzQQ9xUl5/gpg.1.sh --keyserver keys.openpgp.org --recv-key 612DEFB798507F25\n",
            "gpg: key 612DEFB798507F25: public key \"Tiago de Paula Peixoto <tiago@skewed.de>\" imported\n",
            "gpg: Total number processed: 1\n",
            "gpg:               imported: 1\n",
            "Get:1 http://security.ubuntu.com/ubuntu bionic-security InRelease [88.7 kB]\n",
            "Get:2 http://ppa.launchpad.net/c2d4u.team/c2d4u4.0+/ubuntu bionic InRelease [15.9 kB]\n",
            "Hit:3 http://archive.ubuntu.com/ubuntu bionic InRelease\n",
            "Get:4 https://cloud.r-project.org/bin/linux/ubuntu bionic-cran40/ InRelease [3,626 B]\n",
            "Get:5 http://downloads.skewed.de/apt bionic InRelease [4,310 B]\n",
            "Get:6 http://archive.ubuntu.com/ubuntu bionic-updates InRelease [88.7 kB]\n",
            "Hit:7 http://ppa.launchpad.net/graphics-drivers/ppa/ubuntu bionic InRelease\n",
            "Get:8 http://archive.ubuntu.com/ubuntu bionic-backports InRelease [74.6 kB]\n",
            "Ign:9 https://developer.download.nvidia.com/compute/cuda/repos/ubuntu1804/x86_64  InRelease\n",
            "Get:10 http://ppa.launchpad.net/c2d4u.team/c2d4u4.0+/ubuntu bionic/main Sources [1,688 kB]\n",
            "Ign:11 https://developer.download.nvidia.com/compute/machine-learning/repos/ubuntu1804/x86_64  InRelease\n",
            "Get:12 https://developer.download.nvidia.com/compute/cuda/repos/ubuntu1804/x86_64  Release [697 B]\n",
            "Get:13 http://ppa.launchpad.net/c2d4u.team/c2d4u4.0+/ubuntu bionic/main amd64 Packages [864 kB]\n",
            "Hit:14 https://developer.download.nvidia.com/compute/machine-learning/repos/ubuntu1804/x86_64  Release\n",
            "Get:15 https://developer.download.nvidia.com/compute/cuda/repos/ubuntu1804/x86_64  Release.gpg [836 B]\n",
            "Get:16 http://downloads.skewed.de/apt bionic/main amd64 Packages [1,597 B]\n",
            "Get:17 http://security.ubuntu.com/ubuntu bionic-security/universe amd64 Packages [1,365 kB]\n",
            "Get:18 http://security.ubuntu.com/ubuntu bionic-security/main amd64 Packages [1,781 kB]\n",
            "Get:19 http://archive.ubuntu.com/ubuntu bionic-updates/multiverse amd64 Packages [54.4 kB]\n",
            "Get:20 http://archive.ubuntu.com/ubuntu bionic-updates/main amd64 Packages [2,208 kB]\n",
            "Get:21 http://archive.ubuntu.com/ubuntu bionic-updates/universe amd64 Packages [2,130 kB]\n",
            "Get:22 http://archive.ubuntu.com/ubuntu bionic-updates/restricted amd64 Packages [252 kB]\n",
            "Ign:24 https://developer.download.nvidia.com/compute/cuda/repos/ubuntu1804/x86_64  Packages\n",
            "Get:24 https://developer.download.nvidia.com/compute/cuda/repos/ubuntu1804/x86_64  Packages [442 kB]\n",
            "Fetched 11.1 MB in 2s (4,876 kB/s)\n",
            "Reading package lists... Done\n",
            "Reading package lists... Done\n",
            "Building dependency tree       \n",
            "Reading state information... Done\n",
            "The following additional packages will be installed:\n",
            "  fonts-lyx gir1.2-atk-1.0 gir1.2-freedesktop gir1.2-gdkpixbuf-2.0\n",
            "  gir1.2-gtk-3.0 gir1.2-pango-1.0 javascript-common libcairomm-1.0-1v5\n",
            "  libjs-jquery libjs-jquery-ui libpangoxft-1.0-0 libsigc++-2.0-0v5\n",
            "  python-backports.functools-lru-cache python-cairo python-cycler\n",
            "  python-dateutil python-gi python-gi-cairo python-gv python-matplotlib\n",
            "  python-matplotlib-data python-olefile python-pil python-pyparsing python-six\n",
            "  python-subprocess32 python-tz python3-cycler python3-dateutil\n",
            "  python3-decorator python3-olefile python3-pil python3-pyparsing\n",
            "  python3-scipy python3-six python3-tz ttf-bitstream-vera\n",
            "Suggested packages:\n",
            "  apache2 | lighttpd | httpd libjs-jquery-ui-docs python-cycler-doc dvipng\n",
            "  ghostscript inkscape ipython python-cairocffi python-configobj\n",
            "  python-excelerator python-gobject python-matplotlib-doc python-nose\n",
            "  python-qt4 python-scipy python-sip python-tornado python-traits\n",
            "  python-wxgtk3.0 texlive-extra-utils texlive-latex-extra ttf-staypuft\n",
            "  python-pil-doc python-pil-dbg python-pyparsing-doc ipython3\n",
            "  python3-cairocffi python3-gi-cairo python3-gobject python3-nose\n",
            "  python3-pyqt4 python3-sip python3-tornado python3-pil-dbg python-scipy-doc\n",
            "The following NEW packages will be installed:\n",
            "  fonts-lyx gir1.2-atk-1.0 gir1.2-freedesktop gir1.2-gdkpixbuf-2.0\n",
            "  gir1.2-gtk-3.0 gir1.2-pango-1.0 javascript-common libcairomm-1.0-1v5\n",
            "  libjs-jquery libjs-jquery-ui libpangoxft-1.0-0 libsigc++-2.0-0v5\n",
            "  python-backports.functools-lru-cache python-cairo python-cycler\n",
            "  python-dateutil python-gi python-gi-cairo python-gv python-matplotlib\n",
            "  python-matplotlib-data python-olefile python-pil python-pyparsing python-six\n",
            "  python-subprocess32 python-tz python3-cairo python3-cycler python3-dateutil\n",
            "  python3-decorator python3-graph-tool python3-matplotlib python3-olefile\n",
            "  python3-pil python3-pyparsing python3-scipy python3-six python3-tz\n",
            "  ttf-bitstream-vera\n",
            "0 upgraded, 40 newly installed, 0 to remove and 49 not upgraded.\n",
            "Need to get 61.9 MB of archives.\n",
            "After this operation, 381 MB of additional disk space will be used.\n",
            "Get:1 http://archive.ubuntu.com/ubuntu bionic-updates/universe amd64 fonts-lyx all 2.2.4-0ubuntu0.18.04.1 [155 kB]\n",
            "Get:2 http://downloads.skewed.de/apt bionic/main amd64 python3-graph-tool amd64 2.35 [38.1 MB]\n",
            "Get:3 http://archive.ubuntu.com/ubuntu bionic/main amd64 gir1.2-atk-1.0 amd64 2.28.1-1 [17.8 kB]\n",
            "Get:4 http://archive.ubuntu.com/ubuntu bionic/main amd64 gir1.2-freedesktop amd64 1.56.1-1 [9,080 B]\n",
            "Get:5 http://archive.ubuntu.com/ubuntu bionic/main amd64 gir1.2-gdkpixbuf-2.0 amd64 2.36.11-2 [7,748 B]\n",
            "Get:6 http://archive.ubuntu.com/ubuntu bionic-updates/main amd64 libpangoxft-1.0-0 amd64 1.40.14-1ubuntu0.1 [15.0 kB]\n",
            "Get:7 http://archive.ubuntu.com/ubuntu bionic-updates/main amd64 gir1.2-pango-1.0 amd64 1.40.14-1ubuntu0.1 [21.6 kB]\n",
            "Get:8 http://archive.ubuntu.com/ubuntu bionic-updates/main amd64 gir1.2-gtk-3.0 amd64 3.22.30-1ubuntu4 [194 kB]\n",
            "Get:9 http://archive.ubuntu.com/ubuntu bionic/main amd64 javascript-common all 11 [6,066 B]\n",
            "Get:10 http://archive.ubuntu.com/ubuntu bionic/main amd64 libsigc++-2.0-0v5 amd64 2.10.0-2 [10.9 kB]\n",
            "Get:11 http://archive.ubuntu.com/ubuntu bionic/main amd64 libcairomm-1.0-1v5 amd64 1.12.2-3 [37.1 kB]\n",
            "Get:12 http://archive.ubuntu.com/ubuntu bionic/main amd64 libjs-jquery all 3.2.1-1 [152 kB]\n",
            "Get:13 http://archive.ubuntu.com/ubuntu bionic/universe amd64 libjs-jquery-ui all 1.12.1+dfsg-5 [232 kB]\n",
            "Get:14 http://archive.ubuntu.com/ubuntu bionic/universe amd64 python-backports.functools-lru-cache all 1.4-2 [5,960 B]\n",
            "Get:15 http://archive.ubuntu.com/ubuntu bionic/main amd64 python-cairo amd64 1.16.2-1 [56.4 kB]\n",
            "Get:16 http://archive.ubuntu.com/ubuntu bionic/main amd64 python-six all 1.11.0-2 [11.3 kB]\n",
            "Get:17 http://archive.ubuntu.com/ubuntu bionic/universe amd64 python-cycler all 0.10.0-1 [7,520 B]\n",
            "Get:18 http://archive.ubuntu.com/ubuntu bionic/main amd64 python-dateutil all 2.6.1-1 [60.6 kB]\n",
            "Get:19 http://archive.ubuntu.com/ubuntu bionic-updates/main amd64 python-gi amd64 3.26.1-2ubuntu1 [197 kB]\n",
            "Get:20 http://archive.ubuntu.com/ubuntu bionic-updates/universe amd64 python-gi-cairo amd64 3.26.1-2ubuntu1 [6,632 B]\n",
            "Get:21 http://archive.ubuntu.com/ubuntu bionic/universe amd64 python-gv amd64 2.40.1-2 [32.3 kB]\n",
            "Get:22 http://archive.ubuntu.com/ubuntu bionic/universe amd64 ttf-bitstream-vera all 1.10-8 [352 kB]\n",
            "Get:23 http://archive.ubuntu.com/ubuntu bionic/universe amd64 python-matplotlib-data all 2.1.1-2ubuntu3 [3,774 kB]\n",
            "Get:24 http://archive.ubuntu.com/ubuntu bionic/main amd64 python-pyparsing all 2.2.0+dfsg1-2 [52.1 kB]\n",
            "Get:25 http://archive.ubuntu.com/ubuntu bionic/main amd64 python-tz all 2018.3-2 [31.6 kB]\n",
            "Get:26 http://archive.ubuntu.com/ubuntu bionic/universe amd64 python-subprocess32 amd64 3.2.7-3 [27.2 kB]\n",
            "Get:27 http://archive.ubuntu.com/ubuntu bionic/universe amd64 python-matplotlib amd64 2.1.1-2ubuntu3 [3,901 kB]\n",
            "Get:28 http://archive.ubuntu.com/ubuntu bionic/main amd64 python-olefile all 0.45.1-1 [33.2 kB]\n",
            "Get:29 http://archive.ubuntu.com/ubuntu bionic-updates/main amd64 python-pil amd64 5.1.0-1ubuntu0.3 [301 kB]\n",
            "Get:30 http://archive.ubuntu.com/ubuntu bionic/main amd64 python3-cairo amd64 1.16.2-1 [56.1 kB]\n",
            "Get:31 http://archive.ubuntu.com/ubuntu bionic/main amd64 python3-six all 1.11.0-2 [11.4 kB]\n",
            "Get:32 http://archive.ubuntu.com/ubuntu bionic/universe amd64 python3-cycler all 0.10.0-1 [7,622 B]\n",
            "Get:33 http://archive.ubuntu.com/ubuntu bionic/main amd64 python3-dateutil all 2.6.1-1 [52.3 kB]\n",
            "Get:34 http://archive.ubuntu.com/ubuntu bionic/universe amd64 python3-decorator all 4.1.2-1 [9,364 B]\n",
            "Get:35 http://archive.ubuntu.com/ubuntu bionic/main amd64 python3-pyparsing all 2.2.0+dfsg1-2 [52.2 kB]\n",
            "Get:36 http://archive.ubuntu.com/ubuntu bionic/main amd64 python3-tz all 2018.3-2 [25.1 kB]\n",
            "Get:37 http://archive.ubuntu.com/ubuntu bionic/universe amd64 python3-matplotlib amd64 2.1.1-2ubuntu3 [3,907 kB]\n",
            "Get:38 http://archive.ubuntu.com/ubuntu bionic/main amd64 python3-olefile all 0.45.1-1 [33.3 kB]\n",
            "Get:39 http://archive.ubuntu.com/ubuntu bionic-updates/main amd64 python3-pil amd64 5.1.0-1ubuntu0.3 [330 kB]\n",
            "Get:40 http://archive.ubuntu.com/ubuntu bionic/universe amd64 python3-scipy amd64 0.19.1-2ubuntu1 [9,619 kB]\n",
            "Fetched 61.9 MB in 1s (63.0 MB/s)\n",
            "Extracting templates from packages: 100%\n",
            "Selecting previously unselected package fonts-lyx.\n",
            "(Reading database ... 144793 files and directories currently installed.)\n",
            "Preparing to unpack .../00-fonts-lyx_2.2.4-0ubuntu0.18.04.1_all.deb ...\n",
            "Unpacking fonts-lyx (2.2.4-0ubuntu0.18.04.1) ...\n",
            "Selecting previously unselected package gir1.2-atk-1.0:amd64.\n",
            "Preparing to unpack .../01-gir1.2-atk-1.0_2.28.1-1_amd64.deb ...\n",
            "Unpacking gir1.2-atk-1.0:amd64 (2.28.1-1) ...\n",
            "Selecting previously unselected package gir1.2-freedesktop:amd64.\n",
            "Preparing to unpack .../02-gir1.2-freedesktop_1.56.1-1_amd64.deb ...\n",
            "Unpacking gir1.2-freedesktop:amd64 (1.56.1-1) ...\n",
            "Selecting previously unselected package gir1.2-gdkpixbuf-2.0:amd64.\n",
            "Preparing to unpack .../03-gir1.2-gdkpixbuf-2.0_2.36.11-2_amd64.deb ...\n",
            "Unpacking gir1.2-gdkpixbuf-2.0:amd64 (2.36.11-2) ...\n",
            "Selecting previously unselected package libpangoxft-1.0-0:amd64.\n",
            "Preparing to unpack .../04-libpangoxft-1.0-0_1.40.14-1ubuntu0.1_amd64.deb ...\n",
            "Unpacking libpangoxft-1.0-0:amd64 (1.40.14-1ubuntu0.1) ...\n",
            "Selecting previously unselected package gir1.2-pango-1.0:amd64.\n",
            "Preparing to unpack .../05-gir1.2-pango-1.0_1.40.14-1ubuntu0.1_amd64.deb ...\n",
            "Unpacking gir1.2-pango-1.0:amd64 (1.40.14-1ubuntu0.1) ...\n",
            "Selecting previously unselected package gir1.2-gtk-3.0:amd64.\n",
            "Preparing to unpack .../06-gir1.2-gtk-3.0_3.22.30-1ubuntu4_amd64.deb ...\n",
            "Unpacking gir1.2-gtk-3.0:amd64 (3.22.30-1ubuntu4) ...\n",
            "Selecting previously unselected package javascript-common.\n",
            "Preparing to unpack .../07-javascript-common_11_all.deb ...\n",
            "Unpacking javascript-common (11) ...\n",
            "Selecting previously unselected package libsigc++-2.0-0v5:amd64.\n",
            "Preparing to unpack .../08-libsigc++-2.0-0v5_2.10.0-2_amd64.deb ...\n",
            "Unpacking libsigc++-2.0-0v5:amd64 (2.10.0-2) ...\n",
            "Selecting previously unselected package libcairomm-1.0-1v5:amd64.\n",
            "Preparing to unpack .../09-libcairomm-1.0-1v5_1.12.2-3_amd64.deb ...\n",
            "Unpacking libcairomm-1.0-1v5:amd64 (1.12.2-3) ...\n",
            "Selecting previously unselected package libjs-jquery.\n",
            "Preparing to unpack .../10-libjs-jquery_3.2.1-1_all.deb ...\n",
            "Unpacking libjs-jquery (3.2.1-1) ...\n",
            "Selecting previously unselected package libjs-jquery-ui.\n",
            "Preparing to unpack .../11-libjs-jquery-ui_1.12.1+dfsg-5_all.deb ...\n",
            "Unpacking libjs-jquery-ui (1.12.1+dfsg-5) ...\n",
            "Selecting previously unselected package python-backports.functools-lru-cache.\n",
            "Preparing to unpack .../12-python-backports.functools-lru-cache_1.4-2_all.deb ...\n",
            "Unpacking python-backports.functools-lru-cache (1.4-2) ...\n",
            "Selecting previously unselected package python-cairo:amd64.\n",
            "Preparing to unpack .../13-python-cairo_1.16.2-1_amd64.deb ...\n",
            "Unpacking python-cairo:amd64 (1.16.2-1) ...\n",
            "Selecting previously unselected package python-six.\n",
            "Preparing to unpack .../14-python-six_1.11.0-2_all.deb ...\n",
            "Unpacking python-six (1.11.0-2) ...\n",
            "Selecting previously unselected package python-cycler.\n",
            "Preparing to unpack .../15-python-cycler_0.10.0-1_all.deb ...\n",
            "Unpacking python-cycler (0.10.0-1) ...\n",
            "Selecting previously unselected package python-dateutil.\n",
            "Preparing to unpack .../16-python-dateutil_2.6.1-1_all.deb ...\n",
            "Unpacking python-dateutil (2.6.1-1) ...\n",
            "Selecting previously unselected package python-gi.\n",
            "Preparing to unpack .../17-python-gi_3.26.1-2ubuntu1_amd64.deb ...\n",
            "Unpacking python-gi (3.26.1-2ubuntu1) ...\n",
            "Selecting previously unselected package python-gi-cairo.\n",
            "Preparing to unpack .../18-python-gi-cairo_3.26.1-2ubuntu1_amd64.deb ...\n",
            "Unpacking python-gi-cairo (3.26.1-2ubuntu1) ...\n",
            "Selecting previously unselected package python-gv.\n",
            "Preparing to unpack .../19-python-gv_2.40.1-2_amd64.deb ...\n",
            "Unpacking python-gv (2.40.1-2) ...\n",
            "Selecting previously unselected package ttf-bitstream-vera.\n",
            "Preparing to unpack .../20-ttf-bitstream-vera_1.10-8_all.deb ...\n",
            "Unpacking ttf-bitstream-vera (1.10-8) ...\n",
            "Selecting previously unselected package python-matplotlib-data.\n",
            "Preparing to unpack .../21-python-matplotlib-data_2.1.1-2ubuntu3_all.deb ...\n",
            "Unpacking python-matplotlib-data (2.1.1-2ubuntu3) ...\n",
            "Selecting previously unselected package python-pyparsing.\n",
            "Preparing to unpack .../22-python-pyparsing_2.2.0+dfsg1-2_all.deb ...\n",
            "Unpacking python-pyparsing (2.2.0+dfsg1-2) ...\n",
            "Selecting previously unselected package python-tz.\n",
            "Preparing to unpack .../23-python-tz_2018.3-2_all.deb ...\n",
            "Unpacking python-tz (2018.3-2) ...\n",
            "Selecting previously unselected package python-subprocess32.\n",
            "Preparing to unpack .../24-python-subprocess32_3.2.7-3_amd64.deb ...\n",
            "Unpacking python-subprocess32 (3.2.7-3) ...\n",
            "Selecting previously unselected package python-matplotlib.\n",
            "Preparing to unpack .../25-python-matplotlib_2.1.1-2ubuntu3_amd64.deb ...\n",
            "Unpacking python-matplotlib (2.1.1-2ubuntu3) ...\n",
            "Selecting previously unselected package python-olefile.\n",
            "Preparing to unpack .../26-python-olefile_0.45.1-1_all.deb ...\n",
            "Unpacking python-olefile (0.45.1-1) ...\n",
            "Selecting previously unselected package python-pil:amd64.\n",
            "Preparing to unpack .../27-python-pil_5.1.0-1ubuntu0.3_amd64.deb ...\n",
            "Unpacking python-pil:amd64 (5.1.0-1ubuntu0.3) ...\n",
            "Selecting previously unselected package python3-cairo:amd64.\n",
            "Preparing to unpack .../28-python3-cairo_1.16.2-1_amd64.deb ...\n",
            "Unpacking python3-cairo:amd64 (1.16.2-1) ...\n",
            "Selecting previously unselected package python3-six.\n",
            "Preparing to unpack .../29-python3-six_1.11.0-2_all.deb ...\n",
            "Unpacking python3-six (1.11.0-2) ...\n",
            "Selecting previously unselected package python3-cycler.\n",
            "Preparing to unpack .../30-python3-cycler_0.10.0-1_all.deb ...\n",
            "Unpacking python3-cycler (0.10.0-1) ...\n",
            "Selecting previously unselected package python3-dateutil.\n",
            "Preparing to unpack .../31-python3-dateutil_2.6.1-1_all.deb ...\n",
            "Unpacking python3-dateutil (2.6.1-1) ...\n",
            "Selecting previously unselected package python3-decorator.\n",
            "Preparing to unpack .../32-python3-decorator_4.1.2-1_all.deb ...\n",
            "Unpacking python3-decorator (4.1.2-1) ...\n",
            "Selecting previously unselected package python3-pyparsing.\n",
            "Preparing to unpack .../33-python3-pyparsing_2.2.0+dfsg1-2_all.deb ...\n",
            "Unpacking python3-pyparsing (2.2.0+dfsg1-2) ...\n",
            "Selecting previously unselected package python3-tz.\n",
            "Preparing to unpack .../34-python3-tz_2018.3-2_all.deb ...\n",
            "Unpacking python3-tz (2018.3-2) ...\n",
            "Selecting previously unselected package python3-matplotlib.\n",
            "Preparing to unpack .../35-python3-matplotlib_2.1.1-2ubuntu3_amd64.deb ...\n",
            "Unpacking python3-matplotlib (2.1.1-2ubuntu3) ...\n",
            "Selecting previously unselected package python3-olefile.\n",
            "Preparing to unpack .../36-python3-olefile_0.45.1-1_all.deb ...\n",
            "Unpacking python3-olefile (0.45.1-1) ...\n",
            "Selecting previously unselected package python3-pil:amd64.\n",
            "Preparing to unpack .../37-python3-pil_5.1.0-1ubuntu0.3_amd64.deb ...\n",
            "Unpacking python3-pil:amd64 (5.1.0-1ubuntu0.3) ...\n",
            "Selecting previously unselected package python3-scipy.\n",
            "Preparing to unpack .../38-python3-scipy_0.19.1-2ubuntu1_amd64.deb ...\n",
            "Unpacking python3-scipy (0.19.1-2ubuntu1) ...\n",
            "Selecting previously unselected package python3-graph-tool.\n",
            "Preparing to unpack .../39-python3-graph-tool_2.35_amd64.deb ...\n",
            "Unpacking python3-graph-tool (2.35) ...\n",
            "Setting up libjs-jquery (3.2.1-1) ...\n",
            "Setting up gir1.2-atk-1.0:amd64 (2.28.1-1) ...\n",
            "Setting up python3-pil:amd64 (5.1.0-1ubuntu0.3) ...\n",
            "Setting up python3-olefile (0.45.1-1) ...\n",
            "Setting up python-backports.functools-lru-cache (1.4-2) ...\n",
            "Setting up gir1.2-freedesktop:amd64 (1.56.1-1) ...\n",
            "Setting up python3-six (1.11.0-2) ...\n",
            "Setting up libpangoxft-1.0-0:amd64 (1.40.14-1ubuntu0.1) ...\n",
            "Setting up python-tz (2018.3-2) ...\n",
            "Setting up python3-pyparsing (2.2.0+dfsg1-2) ...\n",
            "Setting up python3-cycler (0.10.0-1) ...\n",
            "Setting up gir1.2-gdkpixbuf-2.0:amd64 (2.36.11-2) ...\n",
            "Setting up gir1.2-pango-1.0:amd64 (1.40.14-1ubuntu0.1) ...\n",
            "Setting up python-gi (3.26.1-2ubuntu1) ...\n",
            "Setting up python-six (1.11.0-2) ...\n",
            "Setting up python-gv (2.40.1-2) ...\n",
            "Setting up libjs-jquery-ui (1.12.1+dfsg-5) ...\n",
            "Setting up python-cairo:amd64 (1.16.2-1) ...\n",
            "Setting up python-olefile (0.45.1-1) ...\n",
            "Setting up ttf-bitstream-vera (1.10-8) ...\n",
            "Setting up python3-cairo:amd64 (1.16.2-1) ...\n",
            "Setting up javascript-common (11) ...\n",
            "Setting up python-subprocess32 (3.2.7-3) ...\n",
            "Setting up python3-decorator (4.1.2-1) ...\n",
            "Setting up python-pil:amd64 (5.1.0-1ubuntu0.3) ...\n",
            "Setting up libsigc++-2.0-0v5:amd64 (2.10.0-2) ...\n",
            "Setting up python3-tz (2018.3-2) ...\n",
            "Setting up python3-dateutil (2.6.1-1) ...\n",
            "Setting up fonts-lyx (2.2.4-0ubuntu0.18.04.1) ...\n",
            "Setting up python-pyparsing (2.2.0+dfsg1-2) ...\n",
            "Setting up python-gi-cairo (3.26.1-2ubuntu1) ...\n",
            "Setting up libcairomm-1.0-1v5:amd64 (1.12.2-3) ...\n",
            "Setting up python3-scipy (0.19.1-2ubuntu1) ...\n",
            "Setting up gir1.2-gtk-3.0:amd64 (3.22.30-1ubuntu4) ...\n",
            "Setting up python-matplotlib-data (2.1.1-2ubuntu3) ...\n",
            "Setting up python3-graph-tool (2.35) ...\n",
            "Setting up python-cycler (0.10.0-1) ...\n",
            "Setting up python-dateutil (2.6.1-1) ...\n",
            "Setting up python3-matplotlib (2.1.1-2ubuntu3) ...\n",
            "Setting up python-matplotlib (2.1.1-2ubuntu3) ...\n",
            "Processing triggers for fontconfig (2.12.6-0ubuntu2) ...\n",
            "Processing triggers for libc-bin (2.27-3ubuntu1.2) ...\n",
            "/sbin/ldconfig.real: /usr/local/lib/python3.6/dist-packages/ideep4py/lib/libmkldnn.so.0 is not a symbolic link\n",
            "\n"
          ],
          "name": "stdout"
        }
      ]
    },
    {
      "cell_type": "code",
      "metadata": {
        "id": "uMJmQAN8NBCT"
      },
      "source": [
        "from graph_tool import clustering as c\n",
        "import graph_tool.generation as gt\n",
        "import graph_tool\n",
        "import numpy as np"
      ],
      "execution_count": null,
      "outputs": []
    },
    {
      "cell_type": "code",
      "metadata": {
        "id": "NdGh1lG6xgW1"
      },
      "source": [
        "f = open('bison.txt','r')  \n",
        "G = np.zeros(shape=(26,26)) \n",
        "p = 0;\n",
        "while f:\n",
        "  p += 1\n",
        "  li = f.readline() \n",
        "  a,b = li.split()\n",
        "  print(a,b)\n",
        "  a = int(a) - 1\n",
        "  b = int(b) - 1\n",
        "  G[a][b] = 1  \n",
        "  G[b][a] = 1"
      ],
      "execution_count": null,
      "outputs": []
    },
    {
      "cell_type": "code",
      "metadata": {
        "colab": {
          "base_uri": "https://localhost:8080/"
        },
        "id": "rM4fJHwkHhX_",
        "outputId": "488628c5-100a-44fd-c6fc-32cd78e74486"
      },
      "source": [
        "\n",
        "motif = graph_tool.Graph(directed=False)\n",
        "adj = np.array([[0,1,1,1],[1,0,0,1],[1,0,0,1],[1,1,1,0]])\n",
        "motif.add_edge_list(np.transpose(adj.nonzero()))\n",
        "motif = [motif]\n",
        "g = graph_tool.Graph(directed=False)\n",
        "g.add_edge_list(np.transpose(G.nonzero()))\n",
        "motifs, counts,vertexmaps = c.motifs(c.GraphView(g, directed=False),k=4,motif_list=motif,return_maps= True )\n",
        "print(len(motifs)) \n",
        "print(counts)"
      ],
      "execution_count": null,
      "outputs": [
        {
          "output_type": "stream",
          "text": [
            "1\n",
            "[3215]\n"
          ],
          "name": "stdout"
        }
      ]
    },
    {
      "cell_type": "code",
      "metadata": {
        "id": "BiDS0jHOQsUP"
      },
      "source": [
        "motif_array = []\n",
        "for i in range(counts[0]):\n",
        "    arr = vertexmaps[0][i].get_array()\n",
        "    motif_array.append(arr)"
      ],
      "execution_count": null,
      "outputs": []
    },
    {
      "cell_type": "code",
      "metadata": {
        "id": "bgvdU3GAbXhs",
        "colab": {
          "base_uri": "https://localhost:8080/"
        },
        "outputId": "024386d7-bc77-447c-8498-563a97a6c47e"
      },
      "source": [
        "induced_motif = []\n",
        "non_induced_motif = []\n",
        "ed_count = 0;\n",
        "for k in range(len(motif_array)):\n",
        "  ed_count = 0;\n",
        "  for i in range(4):\n",
        "    for j in range(4):\n",
        "      a = motif_array[k][i];\n",
        "      b = motif_array[k][j];\n",
        "      if(G[a][b] == 1 and G[b][a]==1):\n",
        "        ed_count = ed_count + 1;\n",
        "  if (ed_count == 10):\n",
        "    induced_motif.append(motif_array[k]);\n",
        "  else: \n",
        "    non_induced_motif.append(motif_array[k]);\n",
        "\n",
        "print(len(induced_motif))\n",
        "print(len(non_induced_motif))"
      ],
      "execution_count": null,
      "outputs": [
        {
          "output_type": "stream",
          "text": [
            "3215\n",
            "0\n"
          ],
          "name": "stdout"
        }
      ]
    },
    {
      "cell_type": "code",
      "metadata": {
        "id": "0Y6eANZ4HqSR"
      },
      "source": [
        "node_counts = {}\n",
        "for i in range(26):\n",
        "  node_counts[i] = 0\n",
        " "
      ],
      "execution_count": null,
      "outputs": []
    },
    {
      "cell_type": "code",
      "metadata": {
        "id": "59aeHmOPHqcD"
      },
      "source": [
        "for i in range(len(induced_motif)):\n",
        "   \n",
        "  for j in range(4):\n",
        "    node = induced_motif[i][j];\n",
        "    node_counts[node] =  node_counts[node] + 1"
      ],
      "execution_count": null,
      "outputs": []
    },
    {
      "cell_type": "code",
      "metadata": {
        "colab": {
          "base_uri": "https://localhost:8080/"
        },
        "id": "4dktdqNTHqfb",
        "outputId": "c86630c3-0b1b-484d-9a70-10a3ea18a2dd"
      },
      "source": [
        "node_counts"
      ],
      "execution_count": null,
      "outputs": [
        {
          "output_type": "execute_result",
          "data": {
            "text/plain": [
              "{0: 497,\n",
              " 1: 480,\n",
              " 2: 548,\n",
              " 3: 565,\n",
              " 4: 466,\n",
              " 5: 615,\n",
              " 6: 593,\n",
              " 7: 563,\n",
              " 8: 654,\n",
              " 9: 482,\n",
              " 10: 435,\n",
              " 11: 463,\n",
              " 12: 430,\n",
              " 13: 619,\n",
              " 14: 563,\n",
              " 15: 745,\n",
              " 16: 602,\n",
              " 17: 605,\n",
              " 18: 469,\n",
              " 19: 520,\n",
              " 20: 342,\n",
              " 21: 211,\n",
              " 22: 137,\n",
              " 23: 295,\n",
              " 24: 489,\n",
              " 25: 472}"
            ]
          },
          "metadata": {
            "tags": []
          },
          "execution_count": 25
        }
      ]
    },
    {
      "cell_type": "code",
      "metadata": {
        "colab": {
          "base_uri": "https://localhost:8080/"
        },
        "id": "jYrqQN68Hqif",
        "outputId": "6938652e-ae11-4d9c-d1a4-4e1e7611a0a5"
      },
      "source": [
        "sorted(node_counts.items(), key=lambda x: x[1], reverse=True)"
      ],
      "execution_count": null,
      "outputs": [
        {
          "output_type": "execute_result",
          "data": {
            "text/plain": [
              "[(15, 745),\n",
              " (8, 654),\n",
              " (13, 619),\n",
              " (5, 615),\n",
              " (17, 605),\n",
              " (16, 602),\n",
              " (6, 593),\n",
              " (3, 565),\n",
              " (7, 563),\n",
              " (14, 563),\n",
              " (2, 548),\n",
              " (19, 520),\n",
              " (0, 497),\n",
              " (24, 489),\n",
              " (9, 482),\n",
              " (1, 480),\n",
              " (25, 472),\n",
              " (18, 469),\n",
              " (4, 466),\n",
              " (11, 463),\n",
              " (10, 435),\n",
              " (12, 430),\n",
              " (20, 342),\n",
              " (23, 295),\n",
              " (21, 211),\n",
              " (22, 137)]"
            ]
          },
          "metadata": {
            "tags": []
          },
          "execution_count": 26
        }
      ]
    },
    {
      "cell_type": "markdown",
      "metadata": {
        "id": "5-tRXqWvkAAN"
      },
      "source": [
        "Find 4-Clique in the given graph."
      ]
    },
    {
      "cell_type": "code",
      "metadata": {
        "id": "09ZmwAFw3zx3"
      },
      "source": [
        "import numpy as np\n",
        "f = open('bison.txt','r')  \n",
        "G = np.zeros(shape=(26,26)) \n",
        "p = 0;\n",
        "while f:\n",
        "  li = f.readline() \n",
        "  a,b = li.split()\n",
        "  print(a,b)\n",
        "  a = int(a) - 1\n",
        "  b = int(b) - 1\n",
        "  G[a][b] = 1  \n",
        "  G[b][a] = 1"
      ],
      "execution_count": null,
      "outputs": []
    },
    {
      "cell_type": "code",
      "metadata": {
        "colab": {
          "base_uri": "https://localhost:8080/"
        },
        "id": "9QtmpMdP3zx4",
        "outputId": "07ca18cd-06d9-4482-be15-044e88cfb568"
      },
      "source": [
        "import numpy as np\n",
        "motif = graph_tool.Graph(directed=False)\n",
        "adj = np.array([[0,1,1,1],[1,0,1,1],[1,1,0,1],[1,1,1,0]])\n",
        "motif.add_edge_list(np.transpose(adj.nonzero()))\n",
        "motif = [motif]\n",
        "g = graph_tool.Graph(directed=False)\n",
        "g.add_edge_list(np.transpose(G.nonzero()))\n",
        "motifs, counts,vertexmaps = c.motifs(c.GraphView(g, directed=False),k=4,motif_list=motif,return_maps= True )\n",
        "print(len(motifs)) \n",
        "print(counts)"
      ],
      "execution_count": null,
      "outputs": [
        {
          "output_type": "stream",
          "text": [
            "1\n",
            "[3004]\n"
          ],
          "name": "stdout"
        }
      ]
    },
    {
      "cell_type": "code",
      "metadata": {
        "id": "WadOTg4h3zx6"
      },
      "source": [
        "motif_array = []\n",
        "for i in range(counts[0]):\n",
        "    arr = vertexmaps[0][i].get_array()\n",
        "    motif_array.append(arr)"
      ],
      "execution_count": null,
      "outputs": []
    },
    {
      "cell_type": "code",
      "metadata": {
        "colab": {
          "base_uri": "https://localhost:8080/"
        },
        "id": "MR9a0oHr3zx6",
        "outputId": "ae87317e-c706-4996-e869-d964385418f0"
      },
      "source": [
        "induced_motif = []\n",
        "non_induced_motif = []\n",
        "ed_count = 0;\n",
        "for k in range(len(motif_array)):\n",
        "  ed_count = 0;\n",
        "  for i in range(4):\n",
        "    for j in range(4):\n",
        "      a = motif_array[k][i];\n",
        "      b = motif_array[k][j];\n",
        "      if(G[a][b] == 1 and G[b][a]==1):\n",
        "        ed_count = ed_count + 1;\n",
        "  if (ed_count == 12):\n",
        "    induced_motif.append(motif_array[k]);\n",
        "  else: \n",
        "    non_induced_motif.append(motif_array[k]);\n",
        "\n",
        "print(len(induced_motif))\n",
        "print(len(non_induced_motif))"
      ],
      "execution_count": null,
      "outputs": [
        {
          "output_type": "stream",
          "text": [
            "3004\n",
            "0\n"
          ],
          "name": "stdout"
        }
      ]
    },
    {
      "cell_type": "code",
      "metadata": {
        "id": "JTx2mv45xHq2"
      },
      "source": [
        ""
      ],
      "execution_count": null,
      "outputs": []
    }
  ]
}